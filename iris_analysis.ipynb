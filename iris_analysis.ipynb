{
 "cells": [
  {
   "cell_type": "markdown",
   "id": "2ddf99e3",
   "metadata": {},
   "source": [
    "# 📊 Data Analysis & Visualization with Pandas and Matplotlib"
   ]
  },
  {
   "cell_type": "markdown",
   "id": "8ccf934f",
   "metadata": {},
   "source": [
    "## 📌 Objective:\n",
    "- Load and analyze a dataset using `pandas`\n",
    "- Visualize insights using `matplotlib` and `seaborn`"
   ]
  },
  {
   "cell_type": "code",
   "execution_count": null,
   "id": "8745105d",
   "metadata": {},
   "outputs": [],
   "source": [
    "import pandas as pd\n",
    "import matplotlib.pyplot as plt\n",
    "import seaborn as sns\n",
    "from sklearn.datasets import load_iris"
   ]
  },
  {
   "cell_type": "code",
   "execution_count": null,
   "id": "b209e652",
   "metadata": {},
   "outputs": [],
   "source": [
    "# Load the Iris dataset\n",
    "iris = load_iris()\n",
    "\n",
    "# Convert to DataFrame\n",
    "df = pd.DataFrame(iris.data, columns=iris.feature_names)\n",
    "df['species'] = pd.Categorical.from_codes(iris.target, iris.target_names)\n",
    "\n",
    "# Display the first five rows\n",
    "df.head()"
   ]
  },
  {
   "cell_type": "code",
   "execution_count": null,
   "id": "40a46cc9",
   "metadata": {},
   "outputs": [],
   "source": [
    "# Data types and missing values\n",
    "df.info()\n",
    "df.isnull().sum()"
   ]
  },
  {
   "cell_type": "code",
   "execution_count": null,
   "id": "6bda86de",
   "metadata": {},
   "outputs": [],
   "source": [
    "# Basic stats for numerical columns\n",
    "df.describe()"
   ]
  },
  {
   "cell_type": "code",
   "execution_count": null,
   "id": "d1f7df25",
   "metadata": {},
   "outputs": [],
   "source": [
    "# Mean of numerical columns per species\n",
    "df.groupby('species').mean()"
   ]
  },
  {
   "cell_type": "code",
   "execution_count": null,
   "id": "6d02f114",
   "metadata": {},
   "outputs": [],
   "source": [
    "# Simulated cumulative petal length for line chart\n",
    "df['cumulative_petal_length'] = df['petal length (cm)'].cumsum()"
   ]
  },
  {
   "cell_type": "code",
   "execution_count": null,
   "id": "5d5e6fe9",
   "metadata": {},
   "outputs": [],
   "source": [
    "plt.figure(figsize=(10,5))\n",
    "plt.plot(df['cumulative_petal_length'], label='Cumulative Petal Length', color='purple')\n",
    "plt.title('Cumulative Petal Length Trend')\n",
    "plt.xlabel('Sample Index')\n",
    "plt.ylabel('Cumulative Petal Length (cm)')\n",
    "plt.legend()\n",
    "plt.grid(True)\n",
    "plt.show()"
   ]
  },
  {
   "cell_type": "code",
   "execution_count": null,
   "id": "c8bf60fc",
   "metadata": {},
   "outputs": [],
   "source": [
    "df.groupby('species')['petal length (cm)'].mean().plot(kind='bar', color='skyblue')\n",
    "plt.title('Average Petal Length per Species')\n",
    "plt.xlabel('Species')\n",
    "plt.ylabel('Petal Length (cm)')\n",
    "plt.xticks(rotation=0)\n",
    "plt.show()"
   ]
  },
  {
   "cell_type": "code",
   "execution_count": null,
   "id": "e04e8bf1",
   "metadata": {},
   "outputs": [],
   "source": [
    "plt.hist(df['sepal length (cm)'], bins=15, color='coral', edgecolor='black')\n",
    "plt.title('Distribution of Sepal Length')\n",
    "plt.xlabel('Sepal Length (cm)')\n",
    "plt.ylabel('Frequency')\n",
    "plt.show()"
   ]
  },
  {
   "cell_type": "code",
   "execution_count": null,
   "id": "03a8d3bb",
   "metadata": {},
   "outputs": [],
   "source": [
    "sns.scatterplot(x='sepal length (cm)', y='petal length (cm)', hue='species', data=df)\n",
    "plt.title('Sepal Length vs Petal Length by Species')\n",
    "plt.xlabel('Sepal Length (cm)')\n",
    "plt.ylabel('Petal Length (cm)')\n",
    "plt.show()"
   ]
  },
  {
   "cell_type": "code",
   "execution_count": null,
   "id": "10dc58b0",
   "metadata": {},
   "outputs": [],
   "source": [
    "try:\n",
    "    data = pd.read_csv('non_existent_file.csv')\n",
    "except FileNotFoundError:\n",
    "    print('Error: The file was not found.')"
   ]
  }
 ],
 "metadata": {},
 "nbformat": 4,
 "nbformat_minor": 5
}
